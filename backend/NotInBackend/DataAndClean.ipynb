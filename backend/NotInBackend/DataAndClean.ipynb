{
 "cells": [
  {
   "cell_type": "markdown",
   "id": "9323efa2-8673-46f0-b08a-01d825d12c59",
   "metadata": {},
   "source": [
    "Guide:\n",
    "\n",
    "limit : -1 # get all data\n",
    "\n",
    "KeyError: 'results' # may need to wait for a while and re-run the code"
   ]
  },
  {
   "cell_type": "markdown",
   "id": "484da631-c879-4c84-87d7-1aa43ad52fc1",
   "metadata": {},
   "source": [
    "## On-street Praking Bay Sensors (Parking ID to Occupied or Not)"
   ]
  },
  {
   "cell_type": "code",
   "execution_count": 32,
   "id": "71d640dc-ae32-451b-8d5a-41c6cb930fac",
   "metadata": {},
   "outputs": [
    {
     "name": "stdout",
     "output_type": "stream",
     "text": [
      "{'lastupdated': '2025-05-08T05:44:34+00:00', 'status_timestamp': '2025-04-14T03:01:40+00:00', 'zone_number': 7218, 'status_description': 'Unoccupied', 'kerbsideid': 57940, 'location': {'lon': 144.95458322910955, 'lat': -37.82027020009988}}\n",
      "{'lastupdated': '2025-05-08T05:44:34+00:00', 'status_timestamp': '2024-03-06T20:13:57+00:00', 'zone_number': None, 'status_description': 'Present', 'kerbsideid': 23372, 'location': {'lon': 144.95573756544826, 'lat': -37.818697732486505}}\n",
      "{'lastupdated': '2025-05-08T05:44:34+00:00', 'status_timestamp': '2025-04-13T20:29:07+00:00', 'zone_number': 7219, 'status_description': 'Present', 'kerbsideid': 69943, 'location': {'lon': 144.95216400545675, 'lat': -37.82250487011976}}\n",
      "{'lastupdated': '2025-05-08T05:44:34+00:00', 'status_timestamp': '2025-04-14T02:56:13+00:00', 'zone_number': 7219, 'status_description': 'Present', 'kerbsideid': 69946, 'location': {'lon': 144.95206800770742, 'lat': -37.82253375737386}}\n",
      "{'lastupdated': '2025-04-08T23:44:37+00:00', 'status_timestamp': '2024-06-16T21:36:41+00:00', 'zone_number': 7081, 'status_description': 'Unoccupied', 'kerbsideid': 8396, 'location': {'lon': 144.97325296739342, 'lat': -37.80684173874762}}\n"
     ]
    }
   ],
   "source": [
    "import requests\n",
    "import pandas as pd\n",
    "\n",
    "url = \"https://data.melbourne.vic.gov.au/api/explore/v2.1/catalog/datasets/on-street-parking-bay-sensors/records\"\n",
    "params = {\n",
    "    \"limit\": -1\n",
    "}\n",
    "\n",
    "response = requests.get(url, params=params)\n",
    "data = response.json()\n",
    "\n",
    "# print out <5 lines\n",
    "for rec in data[\"results\"][:5]:\n",
    "    print(rec)\n"
   ]
  },
  {
   "cell_type": "code",
   "execution_count": 34,
   "id": "f3d67ca2-7bd5-4d78-8c73-4bf284d9bbd6",
   "metadata": {},
   "outputs": [
    {
     "name": "stdout",
     "output_type": "stream",
     "text": [
      "✅ Data saved to pid_sensors.xlsx\n"
     ]
    }
   ],
   "source": [
    "records = data.get(\"results\", [])\n",
    "\n",
    "df = pd.DataFrame(records)\n",
    "\n",
    "output_file = \"pid_sensors.xlsx\"\n",
    "df.to_excel(output_file, index=False)\n",
    "\n",
    "print(f\"Data saved to {output_file}\")"
   ]
  },
  {
   "cell_type": "markdown",
   "id": "c63cea3f-587e-464a-ba8e-8f67a6c89bb8",
   "metadata": {},
   "source": [
    "## On-street Praking Bay (Parking ID to Location)"
   ]
  },
  {
   "cell_type": "code",
   "execution_count": 16,
   "id": "59f908c4-554b-43ad-8ff5-590115ca658f",
   "metadata": {},
   "outputs": [
    {
     "name": "stdout",
     "output_type": "stream",
     "text": [
      "{'roadsegmentid': 20189, 'kerbsideid': '56721', 'roadsegmentdescription': 'King Street between Flinders Lane and Collins Street', 'latitude': -37.8185369, 'longitude': 144.9568504, 'lastupdated': '2024-04-08', 'location': {'lon': 144.9568504, 'lat': -37.8185369}}\n",
      "{'roadsegmentid': 20172, 'kerbsideid': None, 'roadsegmentdescription': 'Queen Street between Collins Street and Little Collins Street', 'latitude': -37.8163667, 'longitude': 144.9612159, 'lastupdated': '2023-11-21', 'location': {'lon': 144.9612159, 'lat': -37.8163667}}\n",
      "{'roadsegmentid': 20014, 'kerbsideid': None, 'roadsegmentdescription': 'Lonsdale Street between King Street and Spencer Street', 'latitude': -37.8148461, 'longitude': 144.9536493, 'lastupdated': '2023-10-31', 'location': {'lon': 144.9536493, 'lat': -37.8148461}}\n",
      "{'roadsegmentid': 22213, 'kerbsideid': None, 'roadsegmentdescription': 'Toorak Road between Hope Street and Millswyn Street', 'latitude': -37.8373941, 'longitude': 144.9797541, 'lastupdated': '2023-10-31', 'location': {'lon': 144.9797541, 'lat': -37.8373941}}\n",
      "{'roadsegmentid': 20530, 'kerbsideid': '36752', 'roadsegmentdescription': 'Lygon Street between Argyle Place North and Grattan Street', 'latitude': -37.801843, 'longitude': 144.9666521, 'lastupdated': '2024-08-14', 'location': {'lon': 144.9666521, 'lat': -37.801843}}\n"
     ]
    }
   ],
   "source": [
    "url = \"https://data.melbourne.vic.gov.au/api/explore/v2.1/catalog/datasets/on-street-parking-bays/records\"\n",
    "params = {\n",
    "    \"limit\": -1\n",
    "}\n",
    "\n",
    "response = requests.get(url, params=params)\n",
    "data = response.json()\n",
    "\n",
    "# print out <5 lines\n",
    "for rec in data[\"results\"][:5]:\n",
    "    print(rec)\n"
   ]
  },
  {
   "cell_type": "code",
   "execution_count": 18,
   "id": "d23e661f-e8ed-465c-a338-63271bc4075f",
   "metadata": {},
   "outputs": [
    {
     "name": "stdout",
     "output_type": "stream",
     "text": [
      "✅ Data saved to pid_geolocation.xlsx\n"
     ]
    }
   ],
   "source": [
    "records = data.get(\"results\", [])\n",
    "\n",
    "df = pd.DataFrame(records)\n",
    "\n",
    "output_file = \"pid_geolocation.xlsx\"\n",
    "df.to_excel(output_file, index=False)\n",
    "\n",
    "print(f\"Data saved to {output_file}\")"
   ]
  },
  {
   "cell_type": "markdown",
   "id": "9775d8b0-7d8d-42cc-b3a3-26786f83c570",
   "metadata": {},
   "source": [
    "## Parking zones linked to street segments(PID to Street Name)"
   ]
  },
  {
   "cell_type": "code",
   "execution_count": 24,
   "id": "d7e85ef8-9482-4e42-8c49-d37d06248f68",
   "metadata": {},
   "outputs": [
    {
     "name": "stdout",
     "output_type": "stream",
     "text": [
      "{'parkingzone': 7086, 'onstreet': 'Pelham Street', 'streetfrom': 'Cardigan Street', 'streetto': 'Swanston Street', 'segment_id': 20806}\n",
      "{'parkingzone': 7126, 'onstreet': 'Victoria Street', 'streetfrom': 'Lygon Street', 'streetto': 'Cardigan Street', 'segment_id': 21605}\n",
      "{'parkingzone': 7153, 'onstreet': 'Royal Parade', 'streetfrom': 'Leonard Street', 'streetto': 'Walker Street', 'segment_id': 22435}\n",
      "{'parkingzone': 7133, 'onstreet': 'Victoria Street', 'streetfrom': 'Rathdowne Street', 'streetto': 'Drummond Street', 'segment_id': 21601}\n",
      "{'parkingzone': 7158, 'onstreet': 'Augusta Avenue', 'streetfrom': 'Pearl River Road', 'streetto': 'Wattle Road', 'segment_id': 23275}\n"
     ]
    }
   ],
   "source": [
    "url = \"https://data.melbourne.vic.gov.au/api/explore/v2.1/catalog/datasets/parking-zones-linked-to-street-segments/records\"\n",
    "params = {\n",
    "    \"limit\": -1\n",
    "}\n",
    "\n",
    "response = requests.get(url, params=params)\n",
    "data = response.json()\n",
    "\n",
    "# print out <5 lines\n",
    "for rec in data[\"results\"][:5]:\n",
    "    print(rec)\n"
   ]
  },
  {
   "cell_type": "code",
   "execution_count": 26,
   "id": "7eaa2530-0208-4bdf-859c-7935f83bff7c",
   "metadata": {},
   "outputs": [
    {
     "name": "stdout",
     "output_type": "stream",
     "text": [
      "✅ Data saved to pid_streetName.xlsx\n"
     ]
    }
   ],
   "source": [
    "records = data.get(\"results\", [])\n",
    "\n",
    "df = pd.DataFrame(records)\n",
    "\n",
    "output_file = \"pid_streetName.xlsx\"\n",
    "df.to_excel(output_file, index=False)\n",
    "\n",
    "print(f\"Data saved to {output_file}\")"
   ]
  },
  {
   "cell_type": "markdown",
   "id": "2db2eb1a-c07e-4590-b2cc-b83235c33d3a",
   "metadata": {},
   "source": [
    "## Sign plates located in each Parking zone(PID Avaliable Time)"
   ]
  },
  {
   "cell_type": "code",
   "execution_count": 28,
   "id": "8872e69f-692f-495c-859e-1a1dfd263a80",
   "metadata": {},
   "outputs": [
    {
     "name": "stdout",
     "output_type": "stream",
     "text": [
      "{'parkingzone': 7003, 'restriction_days': 'Mon-Fri', 'time_restrictions_start': '07:30:00', 'time_restrictions_finish': '18:30:00', 'restriction_display': '2P'}\n",
      "{'parkingzone': 7009, 'restriction_days': 'Sat', 'time_restrictions_start': '07:30:00', 'time_restrictions_finish': '12:30:00', 'restriction_display': '1P'}\n",
      "{'parkingzone': 7056, 'restriction_days': 'Sat', 'time_restrictions_start': '07:30:00', 'time_restrictions_finish': '12:30:00', 'restriction_display': '1P'}\n",
      "{'parkingzone': 7066, 'restriction_days': 'Mon-Fri', 'time_restrictions_start': '07:30:00', 'time_restrictions_finish': '18:30:00', 'restriction_display': '2P'}\n",
      "{'parkingzone': 7062, 'restriction_days': 'Sat', 'time_restrictions_start': '07:30:00', 'time_restrictions_finish': '12:30:00', 'restriction_display': '2P'}\n"
     ]
    }
   ],
   "source": [
    "url = \"https://data.melbourne.vic.gov.au/api/explore/v2.1/catalog/datasets/sign-plates-located-in-each-parking-zone/records\"\n",
    "params = {\n",
    "    \"limit\": -1\n",
    "}\n",
    "\n",
    "response = requests.get(url, params=params)\n",
    "data = response.json()\n",
    "\n",
    "# print out <5 lines\n",
    "for rec in data[\"results\"][:5]:\n",
    "    print(rec)\n"
   ]
  },
  {
   "cell_type": "code",
   "execution_count": 30,
   "id": "f295a886-3ff0-4bf8-a072-1669ef7c59ae",
   "metadata": {},
   "outputs": [
    {
     "name": "stdout",
     "output_type": "stream",
     "text": [
      "✅ Data saved to pid_timeRestriction.xlsx\n"
     ]
    }
   ],
   "source": [
    "records = data.get(\"results\", [])\n",
    "\n",
    "df = pd.DataFrame(records)\n",
    "\n",
    "output_file = \"pid_timeRestriction.xlsx\"\n",
    "df.to_excel(output_file, index=False)\n",
    "\n",
    "print(f\"Data saved to {output_file}\")"
   ]
  },
  {
   "cell_type": "markdown",
   "id": "b345f108-30c9-4e9b-94b3-76912d554c3e",
   "metadata": {},
   "source": [
    "## GTFS Realtime - Vehicle Positions - Metro Train\n",
    "\n",
    "Needs to apply for the open-api, therefore stand by and wait until next studio after we checked how others do."
   ]
  },
  {
   "cell_type": "markdown",
   "id": "e9e10b75-bafd-4f34-974f-eccf68cd4878",
   "metadata": {},
   "source": [
    "## Motor count statistics(cars counts)"
   ]
  },
  {
   "cell_type": "code",
   "execution_count": 64,
   "id": "4483e456-504f-43b6-b176-37e6f9f8eb2e",
   "metadata": {},
   "outputs": [
    {
     "name": "stdout",
     "output_type": "stream",
     "text": [
      "                                   Unnamed: 0_level_0 Between 2016 and 2017  \\\n",
      "                                   Unnamed: 0_level_1                   no.   \n",
      "0                                                 NSW              262872.0   \n",
      "1                                                Vic.              209495.0   \n",
      "2                                                 Qld              139062.0   \n",
      "3                                                  SA               50434.0   \n",
      "4                                                  WA               89755.0   \n",
      "5                                                Tas.                7927.0   \n",
      "6                                                  NT               13091.0   \n",
      "7                                                 ACT               11500.0   \n",
      "8                                               Aust.              784136.0   \n",
      "9                                                 NaN                   NaN   \n",
      "10  a. These estimates exclude motorcycles. For mo...                   NaN   \n",
      "\n",
      "        Between 2017 and 2018      Between 2018 and 2019       \\\n",
      "      %                   no.    %                   no.    %   \n",
      "0   4.6              287998.0  4.9              314416.0  5.2   \n",
      "1   4.2              214408.0  4.2              236429.0  4.5   \n",
      "2   3.4              135935.0  3.3              146633.0  3.4   \n",
      "3   3.5               49470.0  3.4               52949.0  3.6   \n",
      "4   3.9               85500.0  3.7               85480.0  3.7   \n",
      "5   1.7                8433.0  1.7                7716.0  1.5   \n",
      "6   7.8                3621.0  2.2               11637.0  6.7   \n",
      "7   3.7               11605.0  3.7               12509.0  3.9   \n",
      "8   4.0              796970.0  4.0              867769.0  4.3   \n",
      "9   NaN                   NaN  NaN                   NaN  NaN   \n",
      "10  NaN                   NaN  NaN                   NaN  NaN   \n",
      "\n",
      "   Between 2019 and 2020      Between 2020 and 2021       \n",
      "                     no.    %                   no.    %  \n",
      "0               262979.0  4.4              188950.0  3.1  \n",
      "1               215728.0  4.0              188855.0  3.5  \n",
      "2               144070.0  3.3               97156.0  2.2  \n",
      "3                51180.0  3.4               27145.0  1.8  \n",
      "4                58113.0  2.5               53481.0  2.3  \n",
      "5                 7063.0  1.4                5613.0  1.1  \n",
      "6                 9770.0  5.7                5564.0  3.3  \n",
      "7                13874.0  4.3               12593.0  3.8  \n",
      "8               762777.0  3.7              579357.0  2.8  \n",
      "9                    NaN  NaN                   NaN  NaN  \n",
      "10                   NaN  NaN                   NaN  NaN  \n"
     ]
    }
   ],
   "source": [
    "import pandas as pd\n",
    "\n",
    "df = pd.read_excel(\"Motor count statistics.xlsx\", header=[0,1])\n",
    "print(df.head(11))"
   ]
  },
  {
   "cell_type": "markdown",
   "id": "22c9a9e6-c805-4beb-a8b6-91d24130d356",
   "metadata": {},
   "source": [
    "## Australian Bureau of Statistics(population)"
   ]
  },
  {
   "cell_type": "code",
   "execution_count": 42,
   "id": "0eaaf6bd-3f3c-4777-a721-dce7b5434edc",
   "metadata": {},
   "outputs": [
    {
     "name": "stdout",
     "output_type": "stream",
     "text": [
      "         Unnamed: 1_level_0 Unnamed: 2_level_0 Unnamed: 3_level_0  \\\n",
      "S/T code           S/T name         GCCSA code         GCCSA name   \n",
      "1           New South Wales              1RNSW        Rest of NSW   \n",
      "1           New South Wales              1RNSW        Rest of NSW   \n",
      "1           New South Wales              1RNSW        Rest of NSW   \n",
      "1           New South Wales              1RNSW        Rest of NSW   \n",
      "1           New South Wales              1RNSW        Rest of NSW   \n",
      "\n",
      "         Unnamed: 4_level_0 Unnamed: 5_level_0 Unnamed: 6_level_0  \\\n",
      "S/T code           SA4 code           SA4 name           SA3 code   \n",
      "1                     101.0     Capital Region            10102.0   \n",
      "1                     101.0     Capital Region            10102.0   \n",
      "1                     101.0     Capital Region            10102.0   \n",
      "1                     101.0     Capital Region            10102.0   \n",
      "1                     101.0     Capital Region            10102.0   \n",
      "\n",
      "         Unnamed: 7_level_0 Unnamed: 8_level_0  \\\n",
      "S/T code           SA3 name           SA2 code   \n",
      "1                Queanbeyan        101021007.0   \n",
      "1                Queanbeyan        101021008.0   \n",
      "1                Queanbeyan        101021009.0   \n",
      "1                Queanbeyan        101021010.0   \n",
      "1                Queanbeyan        101021012.0   \n",
      "\n",
      "                       Unnamed: 9_level_0    2001  ...     2018     2019  \\\n",
      "S/T code                         SA2 name     no.  ...      no.      no.   \n",
      "1                               Braidwood  2760.0  ...   4140.0   4211.0   \n",
      "1                                 Karabar  9129.0  ...   8507.0   8488.0   \n",
      "1                              Queanbeyan  9717.0  ...  11447.0  11450.0   \n",
      "1                       Queanbeyan - East  3925.0  ...   5072.0   5117.0   \n",
      "1         Queanbeyan West - Jerrabomberra  9425.0  ...  13008.0  12935.0   \n",
      "\n",
      "             2020     2021       2011-2021              Area  \\\n",
      "S/T code      no.      no. no..1       no.     % %.1     km2   \n",
      "1          4273.0   4330.0   NaN     872.0  25.2 NaN  3418.4   \n",
      "1          8519.0   8546.0   NaN    -546.0  -6.0 NaN     7.0   \n",
      "1         11437.0  11370.0   NaN     655.0   6.1 NaN     4.8   \n",
      "1          5077.0   5093.0   NaN     142.0   2.9 NaN    13.0   \n",
      "1         12796.0  12743.0   NaN    -480.0  -3.6 NaN    13.7   \n",
      "\n",
      "         Population density 2021  \n",
      "S/T code             persons/km2  \n",
      "1                            1.3  \n",
      "1                         1223.9  \n",
      "1                         2387.7  \n",
      "1                          391.7  \n",
      "1                          931.9  \n",
      "\n",
      "[5 rows x 36 columns]\n"
     ]
    }
   ],
   "source": [
    "import pandas as pd\n",
    "\n",
    "df = pd.read_excel(\n",
    "    \"resident population.xlsx\",\n",
    "    sheet_name=\"Table 1\",\n",
    "    skiprows=6,\n",
    "    header=[0, 1],\n",
    "    index_col=0 \n",
    ")\n",
    "\n",
    "print(df.head())\n"
   ]
  },
  {
   "cell_type": "code",
   "execution_count": 44,
   "id": "10d4b7a7-3d23-4701-965f-58f1458a4962",
   "metadata": {},
   "outputs": [
    {
     "name": "stdout",
     "output_type": "stream",
     "text": [
      "✅ Data saved to resident population_RoughCleaned.xlsx\n"
     ]
    }
   ],
   "source": [
    "output_file = \"resident population_RoughCleaned.xlsx\"\n",
    "df.to_excel(output_file)\n",
    "\n",
    "print(f\"✅ Data saved to {output_file}\")"
   ]
  },
  {
   "cell_type": "markdown",
   "id": "ca34b015-aef9-49e6-9e52-718e2cc02903",
   "metadata": {},
   "source": [
    "## Carbon Emission(people prefered transpotation way)"
   ]
  },
  {
   "cell_type": "code",
   "execution_count": 73,
   "id": "ef18274b-a9ff-44b9-bfdc-3fd651aa5168",
   "metadata": {},
   "outputs": [
    {
     "name": "stdout",
     "output_type": "stream",
     "text": [
      "    Body Type     Sex         Diet How Often Shower Heating Energy Source  \\\n",
      "0  overweight  female  pescatarian            daily                  coal   \n",
      "1       obese  female   vegetarian  less frequently           natural gas   \n",
      "2  overweight    male     omnivore  more frequently                  wood   \n",
      "3  overweight    male     omnivore      twice a day                  wood   \n",
      "4       obese  female   vegetarian            daily                  coal   \n",
      "\n",
      "      Transport Vehicle Type Social Activity  Monthly Grocery Bill  \\\n",
      "0        public          NaN           often                   230   \n",
      "1  walk/bicycle          NaN           often                   114   \n",
      "2       private       petrol           never                   138   \n",
      "3  walk/bicycle          NaN       sometimes                   157   \n",
      "4       private       diesel           often                   266   \n",
      "\n",
      "  Frequency of Traveling by Air  Vehicle Monthly Distance Km Waste Bag Size  \\\n",
      "0                    frequently                          210          large   \n",
      "1                        rarely                            9    extra large   \n",
      "2                         never                         2472          small   \n",
      "3                        rarely                           74         medium   \n",
      "4               very frequently                         8457          large   \n",
      "\n",
      "   Waste Bag Weekly Count  How Long TV PC Daily Hour  \\\n",
      "0                       4                          7   \n",
      "1                       3                          9   \n",
      "2                       1                         14   \n",
      "3                       3                         20   \n",
      "4                       1                          3   \n",
      "\n",
      "   How Many New Clothes Monthly  How Long Internet Daily Hour  \\\n",
      "0                            26                             1   \n",
      "1                            38                             5   \n",
      "2                            47                             6   \n",
      "3                             5                             7   \n",
      "4                             5                             6   \n",
      "\n",
      "  Energy efficiency                               Recycling  \\\n",
      "0                No                               ['Metal']   \n",
      "1                No                               ['Metal']   \n",
      "2         Sometimes                               ['Metal']   \n",
      "3         Sometimes  ['Paper', 'Plastic', 'Glass', 'Metal']   \n",
      "4               Yes                               ['Paper']   \n",
      "\n",
      "                         Cooking_With  CarbonEmission  \n",
      "0                   ['Stove', 'Oven']            2238  \n",
      "1              ['Stove', 'Microwave']            1892  \n",
      "2               ['Oven', 'Microwave']            2595  \n",
      "3  ['Microwave', 'Grill', 'Airfryer']            1074  \n",
      "4                            ['Oven']            4743  \n"
     ]
    }
   ],
   "source": [
    "import pandas as pd\n",
    "\n",
    "df = pd.read_csv(\"Carbon Emission.csv\")\n",
    "\n",
    "print(df.head())\n"
   ]
  },
  {
   "cell_type": "markdown",
   "id": "2175c165-84be-4e5a-8e90-4c5b1f032915",
   "metadata": {},
   "source": [
    "## Combined and Rough Clean"
   ]
  },
  {
   "cell_type": "code",
   "execution_count": 25,
   "id": "182f3f2a-2dae-46e5-83f4-ed386c1ba3fa",
   "metadata": {},
   "outputs": [
    {
     "name": "stdout",
     "output_type": "stream",
     "text": [
      "✅ Done. File saved as pid_street_location_RoughCleaned.xlsx\n"
     ]
    }
   ],
   "source": [
    "import pandas as pd\n",
    "import re\n",
    "\n",
    "# Read the two CSV files (add encoding=\"utf-8-sig\" if needed)\n",
    "geo = pd.read_csv(\"pid_geolocation.csv\")\n",
    "street = pd.read_csv(\"pid_streetName.csv\")\n",
    "\n",
    "# === Rename columns according to the new headers ===\n",
    "# pid_geolocation.csv: RoadSegmentID, KerbsideID, RoadSegmentDescription, Latitude, Longitude, LastUpdated, Location\n",
    "geo.rename(columns={\n",
    "    \"RoadSegmentID\": \"roadsegmentid\",\n",
    "    \"RoadSegmentDescription\": \"description\",\n",
    "    \"Latitude\": \"latitude\",\n",
    "    \"Longitude\": \"longitude\",\n",
    "    \"LastUpdated\": \"lastupdated\",\n",
    "}, inplace=True)\n",
    "\n",
    "# pid_streetName.csv: ParkingZone, OnStreet, StreetFrom, StreetTo, Segment_ID\n",
    "street.rename(columns={\n",
    "    \"Segment_ID\": \"roadsegmentid\",\n",
    "    \"ParkingZone\": \"parkingzone\",\n",
    "    \"OnStreet\": \"onstreet\",\n",
    "    \"StreetFrom\": \"streetfrom\",\n",
    "    \"StreetTo\": \"streetto\",\n",
    "}, inplace=True)\n",
    "\n",
    "# Use regex to split the \"description\" column into three parts:\n",
    "# onstreet, streetfrom, streetto (case-insensitive & flexible spacing)\n",
    "def parse_desc(desc):\n",
    "    if pd.isna(desc):\n",
    "        return pd.Series([None, None, None])\n",
    "    m = re.match(r\"^(.*?)[ ]+between[ ]+(.*?)[ ]+and[ ]+(.*)$\", str(desc), flags=re.IGNORECASE)\n",
    "    if m:\n",
    "        return pd.Series(m.groups())\n",
    "    return pd.Series([None, None, None])\n",
    "\n",
    "geo[[\"onstreet\", \"streetfrom\", \"streetto\"]] = geo[\"description\"].apply(parse_desc)\n",
    "\n",
    "# Merge: keep 'parkingzone' from the street table\n",
    "merged = pd.merge(\n",
    "    geo,\n",
    "    street[[\"parkingzone\", \"onstreet\", \"streetfrom\", \"streetto\", \"roadsegmentid\"]],\n",
    "    on=\"roadsegmentid\",\n",
    "    how=\"outer\",\n",
    "    suffixes=(\"_geo\", \"_street\")\n",
    ")\n",
    "\n",
    "# Create clean columns: prefer 'geo' values, otherwise use 'street' values\n",
    "merged[\"onstreet\"]   = merged[\"onstreet_geo\"].combine_first(merged[\"onstreet_street\"])\n",
    "merged[\"streetfrom\"] = merged[\"streetfrom_geo\"].combine_first(merged[\"streetfrom_street\"])\n",
    "merged[\"streetto\"]   = merged[\"streetto_geo\"].combine_first(merged[\"streetto_street\"])\n",
    "\n",
    "# Select final columns (exclude Location/KerbsideID if not needed)\n",
    "final = merged[[\n",
    "    \"roadsegmentid\", \"parkingzone\", \"onstreet\", \"streetfrom\", \"streetto\",\n",
    "    \"latitude\", \"longitude\", \"lastupdated\"\n",
    "]]\n",
    "\n",
    "# Remove duplicate roadsegmentid entries\n",
    "final = final.drop_duplicates(subset=[\"roadsegmentid\"])\n",
    "\n",
    "# Save the result\n",
    "final.to_excel(\"pid_street_location_RoughCleaned.xlsx\", index=False)\n",
    "print(\"✅ Done. File saved as pid_street_location_RoughCleaned.xlsx\")\n"
   ]
  },
  {
   "cell_type": "code",
   "execution_count": 27,
   "id": "10aac353-c5ca-48f0-94ed-d057d0190809",
   "metadata": {},
   "outputs": [
    {
     "name": "stdout",
     "output_type": "stream",
     "text": [
      "Done. file saved as pid_timeRestriction_sensor_RoughCleaned.xlsx\n"
     ]
    }
   ],
   "source": [
    "import pandas as pd\n",
    "\n",
    "# ---------- Read time restriction ----------\n",
    "restr = pd.read_csv(\"pid_timeRestriction.csv\")\n",
    "restr = restr.rename(columns={\n",
    "    \"ParkingZone\": \"parkingzone\",\n",
    "    \"Restriction_Days\": \"restriction_days\",\n",
    "    \"Time_Restrictions_Start\": \"time_restrictions_start\",\n",
    "    \"Time_Restrictions_Finish\": \"time_restrictions_finish\",\n",
    "    \"Restriction_Display\": \"restriction_display\",\n",
    "})\n",
    "restr[\"rule_no\"] = restr.groupby(\"parkingzone\").cumcount() + 1\n",
    "restr = restr[restr[\"rule_no\"] <= 2]\n",
    "\n",
    "restr_wide = restr.pivot(\n",
    "    index=\"parkingzone\",\n",
    "    columns=\"rule_no\",\n",
    "    values=[\n",
    "        \"restriction_days\",\n",
    "        \"time_restrictions_start\",\n",
    "        \"time_restrictions_finish\",\n",
    "        \"restriction_display\"\n",
    "    ]\n",
    ")\n",
    "restr_wide.columns = [f\"{col[0]}{col[1]}\" for col in restr_wide.columns]\n",
    "restr_wide = restr_wide.reset_index()\n",
    "\n",
    "# ---------- Read sensors ----------\n",
    "sensors = pd.read_excel(\"pid_sensors.xlsx\")\n",
    "sensors = sensors.rename(columns={\n",
    "    \"Status_Timestamp\": \"status_timestamp\",\n",
    "    \"Zone_Number\": \"zone_number\",\n",
    "    \"Status_Description\": \"status_description\"\n",
    "})\n",
    "sensors[\"status_timestamp\"] = pd.to_datetime(sensors[\"status_timestamp\"], errors=\"coerce\", utc=True)\n",
    "\n",
    "# Keep latest per zone\n",
    "sensors_sorted = sensors.sort_values([\"zone_number\", \"status_timestamp\"], ascending=[True, False])\n",
    "sensors_latest = sensors_sorted.drop_duplicates(\"zone_number\").copy()\n",
    "\n",
    "# Map to 0/1\n",
    "sensors_latest.loc[:, \"status_code\"] = sensors_latest[\"status_description\"].map({\"Unoccupied\": 0, \"Present\": 1})\n",
    "sensors_latest = sensors_latest.rename(columns={\"zone_number\": \"parkingzone\"})\n",
    "\n",
    "# ---------- Merge ----------\n",
    "final = pd.merge(restr_wide, sensors_latest, on=\"parkingzone\", how=\"outer\")\n",
    "\n",
    "# Convert timestamp safely\n",
    "final[\"status_timestamp\"] = pd.to_datetime(final[\"status_timestamp\"], errors=\"coerce\")\n",
    "final[\"status_timestamp\"] = final[\"status_timestamp\"].apply(lambda x: x.strftime(\"%Y-%m-%d %H:%M:%S\") if pd.notnull(x) else \"\")\n",
    "\n",
    "# ---------- Save ----------\n",
    "final.to_excel(\"pid_timeRestriction_sensor_RoughCleaned.xlsx\", index=False)\n",
    "print(\"Done. file saved as pid_timeRestriction_sensor_RoughCleaned.xlsx\")\n"
   ]
  },
  {
   "cell_type": "code",
   "execution_count": 29,
   "id": "47d1dd70-8c0f-4b66-8412-8ee6c6e0746f",
   "metadata": {},
   "outputs": [
    {
     "name": "stdout",
     "output_type": "stream",
     "text": [
      "Done. file saved as transport_roughCleaned.xlsx\n"
     ]
    }
   ],
   "source": [
    "import pandas as pd\n",
    "\n",
    "carbon = pd.read_csv(\"Carbon Emission.csv\")\n",
    "\n",
    "carbon_cleaned = carbon[[\"Transport\", \"Vehicle Type\", \"Vehicle Monthly Distance Km\"]]\n",
    "\n",
    "carbon_cleaned.to_excel(\"transport_roughCleaned.xlsx\", index=False)\n",
    "\n",
    "print(\"Done. file saved as transport_roughCleaned.xlsx\")\n"
   ]
  }
 ],
 "metadata": {
  "kernelspec": {
   "display_name": "Python 3 (ipykernel)",
   "language": "python",
   "name": "python3"
  },
  "language_info": {
   "codemirror_mode": {
    "name": "ipython",
    "version": 3
   },
   "file_extension": ".py",
   "mimetype": "text/x-python",
   "name": "python",
   "nbconvert_exporter": "python",
   "pygments_lexer": "ipython3",
   "version": "3.11.7"
  }
 },
 "nbformat": 4,
 "nbformat_minor": 5
}
